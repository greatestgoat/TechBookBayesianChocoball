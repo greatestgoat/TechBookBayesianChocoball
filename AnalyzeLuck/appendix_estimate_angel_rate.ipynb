{
 "cells": [
  {
   "cell_type": "code",
   "execution_count": 1,
   "metadata": {},
   "outputs": [],
   "source": [
    "import numpy as np\n",
    "import pandas as pd\n",
    "import scipy.stats as stats\n",
    "\n",
    "%matplotlib inline\n",
    "import matplotlib.pyplot as plt\n",
    "import seaborn as sns"
   ]
  },
  {
   "cell_type": "code",
   "execution_count": 2,
   "metadata": {},
   "outputs": [],
   "source": [
    "color_palette = 'gray' # deep, gray\n",
    "sns.set(context='notebook', style='darkgrid', palette=color_palette, \n",
    "        font='sans-serif', font_scale=1.5, color_codes=False, rc=None)\n",
    "markers = ['.', \"x\", \"s\", \"+\", \"v\", \"p\", \"^\", \"<\", \">\", \"1\", \"2\", \"3\", \"4\"]\n",
    "n_markers = len(markers)\n",
    "color_list = sns.color_palette()\n",
    "linestyles = ['-', '--', '-.', ':']"
   ]
  },
  {
   "cell_type": "markdown",
   "metadata": {},
   "source": [
    "# データの取得"
   ]
  },
  {
   "cell_type": "code",
   "execution_count": 3,
   "metadata": {},
   "outputs": [
    {
     "data": {
      "text/html": [
       "<div>\n",
       "<style scoped>\n",
       "    .dataframe tbody tr th:only-of-type {\n",
       "        vertical-align: middle;\n",
       "    }\n",
       "\n",
       "    .dataframe tbody tr th {\n",
       "        vertical-align: top;\n",
       "    }\n",
       "\n",
       "    .dataframe thead th {\n",
       "        text-align: right;\n",
       "    }\n",
       "</style>\n",
       "<table border=\"1\" class=\"dataframe\">\n",
       "  <thead>\n",
       "    <tr style=\"text-align: right;\">\n",
       "      <th></th>\n",
       "      <th>measure_date</th>\n",
       "      <th>best_before</th>\n",
       "      <th>taste</th>\n",
       "      <th>buyer</th>\n",
       "      <th>silver</th>\n",
       "      <th>id</th>\n",
       "      <th>name</th>\n",
       "      <th>name_en</th>\n",
       "      <th>spec</th>\n",
       "    </tr>\n",
       "  </thead>\n",
       "  <tbody>\n",
       "    <tr>\n",
       "      <th>0</th>\n",
       "      <td>2017-12-10</td>\n",
       "      <td>2018-09-01</td>\n",
       "      <td>1</td>\n",
       "      <td>A</td>\n",
       "      <td>0</td>\n",
       "      <td>1</td>\n",
       "      <td>いちご</td>\n",
       "      <td>strawberry</td>\n",
       "      <td>25</td>\n",
       "    </tr>\n",
       "    <tr>\n",
       "      <th>1</th>\n",
       "      <td>2017-12-10</td>\n",
       "      <td>2018-09-01</td>\n",
       "      <td>1</td>\n",
       "      <td>A</td>\n",
       "      <td>0</td>\n",
       "      <td>1</td>\n",
       "      <td>いちご</td>\n",
       "      <td>strawberry</td>\n",
       "      <td>25</td>\n",
       "    </tr>\n",
       "    <tr>\n",
       "      <th>2</th>\n",
       "      <td>2017-12-10</td>\n",
       "      <td>2018-09-01</td>\n",
       "      <td>1</td>\n",
       "      <td>A</td>\n",
       "      <td>0</td>\n",
       "      <td>1</td>\n",
       "      <td>いちご</td>\n",
       "      <td>strawberry</td>\n",
       "      <td>25</td>\n",
       "    </tr>\n",
       "    <tr>\n",
       "      <th>3</th>\n",
       "      <td>2017-12-10</td>\n",
       "      <td>2018-09-01</td>\n",
       "      <td>1</td>\n",
       "      <td>A</td>\n",
       "      <td>0</td>\n",
       "      <td>1</td>\n",
       "      <td>いちご</td>\n",
       "      <td>strawberry</td>\n",
       "      <td>25</td>\n",
       "    </tr>\n",
       "    <tr>\n",
       "      <th>4</th>\n",
       "      <td>2017-12-10</td>\n",
       "      <td>2018-09-01</td>\n",
       "      <td>1</td>\n",
       "      <td>A</td>\n",
       "      <td>0</td>\n",
       "      <td>1</td>\n",
       "      <td>いちご</td>\n",
       "      <td>strawberry</td>\n",
       "      <td>25</td>\n",
       "    </tr>\n",
       "  </tbody>\n",
       "</table>\n",
       "</div>"
      ],
      "text/plain": [
       "  measure_date best_before  taste buyer  silver  id name     name_en  spec\n",
       "0   2017-12-10  2018-09-01      1     A       0   1  いちご  strawberry    25\n",
       "1   2017-12-10  2018-09-01      1     A       0   1  いちご  strawberry    25\n",
       "2   2017-12-10  2018-09-01      1     A       0   1  いちご  strawberry    25\n",
       "3   2017-12-10  2018-09-01      1     A       0   1  いちご  strawberry    25\n",
       "4   2017-12-10  2018-09-01      1     A       0   1  いちご  strawberry    25"
      ]
     },
     "execution_count": 3,
     "metadata": {},
     "output_type": "execute_result"
    }
   ],
   "source": [
    "data = pd.read_csv('data/choco_data.csv')\n",
    "tastes = pd.read_csv('data/choco_tastes.csv')\n",
    "data = data.merge(tastes, left_on=['taste'], right_on=['id'])\n",
    "data.head()"
   ]
  },
  {
   "cell_type": "code",
   "execution_count": 4,
   "metadata": {},
   "outputs": [
    {
     "name": "stdout",
     "output_type": "stream",
     "text": [
      "total_count : 534\n",
      "angel_count : 26\n"
     ]
    }
   ],
   "source": [
    "total_counts = data.shape[0]\n",
    "angel_counts = data.silver.sum()\n",
    "\n",
    "print('total_count : {}'.format(total_counts))\n",
    "print('angel_count : {}'.format(angel_counts))\n"
   ]
  },
  {
   "cell_type": "markdown",
   "metadata": {},
   "source": [
    "# 推定量の算出"
   ]
  },
  {
   "cell_type": "markdown",
   "metadata": {},
   "source": [
    "## 最尤推定量"
   ]
  },
  {
   "cell_type": "code",
   "execution_count": 5,
   "metadata": {},
   "outputs": [
    {
     "name": "stdout",
     "output_type": "stream",
     "text": [
      "MLE :  0.04868913857677903\n"
     ]
    }
   ],
   "source": [
    "theta_mle = angel_counts/total_counts\n",
    "print('MLE : ', theta_mle)"
   ]
  },
  {
   "cell_type": "markdown",
   "metadata": {},
   "source": [
    "## 事後分布の導出"
   ]
  },
  {
   "cell_type": "code",
   "execution_count": 6,
   "metadata": {},
   "outputs": [
    {
     "name": "stdout",
     "output_type": "stream",
     "text": [
      "MAP :  0.04904904904904905\n",
      "mean :  0.05037313432835821\n"
     ]
    }
   ],
   "source": [
    "# 事前分布\n",
    "a = 1\n",
    "b = 1\n",
    "\n",
    "# 事後分布\n",
    "a_hat = a + angel_counts\n",
    "b_hat = b + (total_counts - angel_counts)\n",
    "x = np.linspace(0, 1.0, 1000) # x軸の設定\n",
    "pdf = stats.beta(a_hat, b_hat).pdf(x)\n",
    "## 代表点\n",
    "map_val = x[pdf.argmax()]\n",
    "e_val = a_hat / (a_hat + b_hat)\n",
    "\n",
    "print('MAP : ', map_val)\n",
    "print('mean : ', e_val)"
   ]
  },
  {
   "cell_type": "markdown",
   "metadata": {},
   "source": [
    "## 可視化"
   ]
  },
  {
   "cell_type": "code",
   "execution_count": 7,
   "metadata": {},
   "outputs": [
    {
     "data": {
      "image/png": "[encoded data removed]",
      "text/plain": [
       "<Figure size 576x288 with 1 Axes>"
      ]
     },
     "metadata": {},
     "output_type": "display_data"
    }
   ],
   "source": [
    "fig = plt.figure(figsize=(8, 4))\n",
    "ax = fig.subplots(1,1)\n",
    "\n",
    "ax.plot(x, pdf, c=color_list[0], label='Posterior')\n",
    "ax.set_xlim(0, 0.2)\n",
    "ax.set_xlabel('$\\\\theta$')\n",
    "\n",
    "xmin, xmax, ymin, ymax = ax.axis()\n",
    "ax.vlines(theta_mle, ymin, ymax, \n",
    "          linestyle=linestyles[1], \n",
    "          colors=color_list[1], \n",
    "          label='MLE')\n",
    "\n",
    "ax.legend()\n",
    "\n",
    "plt.savefig('appendix_angel_rate.png')"
   ]
  },
  {
   "cell_type": "code",
   "execution_count": null,
   "metadata": {},
   "outputs": [],
   "source": []
  }
 ],
 "metadata": {
  "kernelspec": {
   "display_name": "Python 3",
   "language": "python",
   "name": "python3"
  },
  "language_info": {
   "codemirror_mode": {
    "name": "ipython",
    "version": 3
   },
   "file_extension": ".py",
   "mimetype": "text/x-python",
   "name": "python",
   "nbconvert_exporter": "python",
   "pygments_lexer": "ipython3",
   "version": "3.7.3"
  }
 },
 "nbformat": 4,
 "nbformat_minor": 2
}
