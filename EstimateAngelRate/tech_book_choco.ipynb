{
 "cells": [
  {
   "cell_type": "markdown",
   "metadata": {},
   "source": [
    "# チョコボールのエンゼル出現確率をベイズ推定する"
   ]
  },
  {
   "cell_type": "code",
   "execution_count": 1,
   "metadata": {},
   "outputs": [],
   "source": [
    "import sys, os\n",
    "import numpy as np\n",
    "import pandas as pd\n",
    "import scipy.stats as stats\n",
    "import pymc3 as pm\n",
    "\n",
    "import matplotlib.pyplot as plt\n",
    "import seaborn as sns\n",
    "%matplotlib inline"
   ]
  },
  {
   "cell_type": "code",
   "execution_count": 2,
   "metadata": {},
   "outputs": [],
   "source": [
    "color_palette = 'deep'\n",
    "sns.set(context='notebook', style='darkgrid', palette=color_palette, \n",
    "        font='sans-serif', font_scale=1.5, color_codes=False, rc=None)\n",
    "markers = ['.', \"x\", \"s\", \"+\", \"v\", \"p\", \"^\", \"<\", \">\", \"1\", \"2\", \"3\", \"4\"]\n",
    "n_markers = len(markers)"
   ]
  },
  {
   "cell_type": "code",
   "execution_count": 3,
   "metadata": {},
   "outputs": [],
   "source": [
    "np.random.seed(123)"
   ]
  },
  {
   "cell_type": "markdown",
   "metadata": {},
   "source": [
    "# データの確認\n",
    "データ構成は以下の通り。\n",
    "\n",
    "| columns | description |\n",
    "|:--------|:------------|\n",
    "| measure_date | 計測日 |\n",
    "| weight | 総重量 [g] |\n",
    "| box_weight | 箱重量 [g] |\n",
    "| ball_number | チョコボールの個数 |\n",
    "| angel | エンゼルの有無(0:無し, 1:銀のエンゼル, 2:金のエンゼル) |\n",
    "| campaign | 開催中のキャンペーンID. |\n",
    "| taste | フレーバーID. choco_tastes.csvを参照. |\n",
    "| net_weight | 正味重量(weight-box_weight) |\n",
    "| mean_weight | チョコボール一粒あたりの平均重量(weight/ball_number) |\n",
    "\n",
    "- campaign=1が 「金のエンゼル２倍キャンペーン」を指している"
   ]
  },
  {
   "cell_type": "code",
   "execution_count": 4,
   "metadata": {},
   "outputs": [
    {
     "name": "stdout",
     "output_type": "stream",
     "text": [
      "(581, 9)\n"
     ]
    },
    {
     "data": {
      "text/html": [
       "<div>\n",
       "<style scoped>\n",
       "    .dataframe tbody tr th:only-of-type {\n",
       "        vertical-align: middle;\n",
       "    }\n",
       "\n",
       "    .dataframe tbody tr th {\n",
       "        vertical-align: top;\n",
       "    }\n",
       "\n",
       "    .dataframe thead th {\n",
       "        text-align: right;\n",
       "    }\n",
       "</style>\n",
       "<table border=\"1\" class=\"dataframe\">\n",
       "  <thead>\n",
       "    <tr style=\"text-align: right;\">\n",
       "      <th></th>\n",
       "      <th>measure_date</th>\n",
       "      <th>weight</th>\n",
       "      <th>box_weight</th>\n",
       "      <th>ball_number</th>\n",
       "      <th>angel</th>\n",
       "      <th>campaign</th>\n",
       "      <th>taste</th>\n",
       "      <th>net_weight</th>\n",
       "      <th>mean_weight</th>\n",
       "    </tr>\n",
       "  </thead>\n",
       "  <tbody>\n",
       "    <tr>\n",
       "      <th>0</th>\n",
       "      <td>2017-11-19</td>\n",
       "      <td>34.002</td>\n",
       "      <td>4.756</td>\n",
       "      <td>16</td>\n",
       "      <td>0</td>\n",
       "      <td>1</td>\n",
       "      <td>0</td>\n",
       "      <td>29.246</td>\n",
       "      <td>1.827875</td>\n",
       "    </tr>\n",
       "    <tr>\n",
       "      <th>1</th>\n",
       "      <td>2017-11-20</td>\n",
       "      <td>34.435</td>\n",
       "      <td>4.805</td>\n",
       "      <td>17</td>\n",
       "      <td>0</td>\n",
       "      <td>1</td>\n",
       "      <td>0</td>\n",
       "      <td>29.630</td>\n",
       "      <td>1.742941</td>\n",
       "    </tr>\n",
       "    <tr>\n",
       "      <th>2</th>\n",
       "      <td>2017-11-21</td>\n",
       "      <td>34.000</td>\n",
       "      <td>4.815</td>\n",
       "      <td>18</td>\n",
       "      <td>0</td>\n",
       "      <td>1</td>\n",
       "      <td>0</td>\n",
       "      <td>29.185</td>\n",
       "      <td>1.621389</td>\n",
       "    </tr>\n",
       "    <tr>\n",
       "      <th>3</th>\n",
       "      <td>2017-11-22</td>\n",
       "      <td>34.193</td>\n",
       "      <td>4.818</td>\n",
       "      <td>17</td>\n",
       "      <td>0</td>\n",
       "      <td>1</td>\n",
       "      <td>0</td>\n",
       "      <td>29.375</td>\n",
       "      <td>1.727941</td>\n",
       "    </tr>\n",
       "    <tr>\n",
       "      <th>4</th>\n",
       "      <td>2017-11-23</td>\n",
       "      <td>35.344</td>\n",
       "      <td>4.836</td>\n",
       "      <td>16</td>\n",
       "      <td>0</td>\n",
       "      <td>1</td>\n",
       "      <td>0</td>\n",
       "      <td>30.508</td>\n",
       "      <td>1.906750</td>\n",
       "    </tr>\n",
       "  </tbody>\n",
       "</table>\n",
       "</div>"
      ],
      "text/plain": [
       "  measure_date  weight  box_weight  ball_number  angel  campaign  taste  \\\n",
       "0   2017-11-19  34.002       4.756           16      0         1      0   \n",
       "1   2017-11-20  34.435       4.805           17      0         1      0   \n",
       "2   2017-11-21  34.000       4.815           18      0         1      0   \n",
       "3   2017-11-22  34.193       4.818           17      0         1      0   \n",
       "4   2017-11-23  35.344       4.836           16      0         1      0   \n",
       "\n",
       "   net_weight  mean_weight  \n",
       "0      29.246     1.827875  \n",
       "1      29.630     1.742941  \n",
       "2      29.185     1.621389  \n",
       "3      29.375     1.727941  \n",
       "4      30.508     1.906750  "
      ]
     },
     "execution_count": 4,
     "metadata": {},
     "output_type": "execute_result"
    }
   ],
   "source": [
    "data = pd.read_csv('data/choco_data.csv')\n",
    "print(data.shape)\n",
    "data.head()"
   ]
  },
  {
   "cell_type": "code",
   "execution_count": 5,
   "metadata": {},
   "outputs": [
    {
     "name": "stdout",
     "output_type": "stream",
     "text": [
      "(15, 4)\n"
     ]
    },
    {
     "data": {
      "text/html": [
       "<div>\n",
       "<style scoped>\n",
       "    .dataframe tbody tr th:only-of-type {\n",
       "        vertical-align: middle;\n",
       "    }\n",
       "\n",
       "    .dataframe tbody tr th {\n",
       "        vertical-align: top;\n",
       "    }\n",
       "\n",
       "    .dataframe thead th {\n",
       "        text-align: right;\n",
       "    }\n",
       "</style>\n",
       "<table border=\"1\" class=\"dataframe\">\n",
       "  <thead>\n",
       "    <tr style=\"text-align: right;\">\n",
       "      <th></th>\n",
       "      <th>id</th>\n",
       "      <th>name</th>\n",
       "      <th>name_en</th>\n",
       "      <th>spec</th>\n",
       "    </tr>\n",
       "  </thead>\n",
       "  <tbody>\n",
       "    <tr>\n",
       "      <th>0</th>\n",
       "      <td>0</td>\n",
       "      <td>ピーナツ</td>\n",
       "      <td>peanut</td>\n",
       "      <td>28</td>\n",
       "    </tr>\n",
       "    <tr>\n",
       "      <th>1</th>\n",
       "      <td>1</td>\n",
       "      <td>いちご</td>\n",
       "      <td>strawberry</td>\n",
       "      <td>25</td>\n",
       "    </tr>\n",
       "    <tr>\n",
       "      <th>2</th>\n",
       "      <td>2</td>\n",
       "      <td>金のきなこもち</td>\n",
       "      <td>kinako</td>\n",
       "      <td>29</td>\n",
       "    </tr>\n",
       "    <tr>\n",
       "      <th>3</th>\n",
       "      <td>3</td>\n",
       "      <td>レモングミ</td>\n",
       "      <td>lemon</td>\n",
       "      <td>29</td>\n",
       "    </tr>\n",
       "    <tr>\n",
       "      <th>4</th>\n",
       "      <td>4</td>\n",
       "      <td>甘酒</td>\n",
       "      <td>amazake</td>\n",
       "      <td>22</td>\n",
       "    </tr>\n",
       "  </tbody>\n",
       "</table>\n",
       "</div>"
      ],
      "text/plain": [
       "   id     name     name_en  spec\n",
       "0   0     ピーナツ      peanut    28\n",
       "1   1      いちご  strawberry    25\n",
       "2   2  金のきなこもち      kinako    29\n",
       "3   3    レモングミ       lemon    29\n",
       "4   4       甘酒     amazake    22"
      ]
     },
     "execution_count": 5,
     "metadata": {},
     "output_type": "execute_result"
    }
   ],
   "source": [
    "# taste master\n",
    "tastes = pd.read_csv('data/choco_tastes.csv')\n",
    "print(tastes.shape)\n",
    "tastes.head()"
   ]
  },
  {
   "cell_type": "code",
   "execution_count": 6,
   "metadata": {},
   "outputs": [],
   "source": [
    "# 集計しやすいように一部のデータを加工\n",
    "data['silver'] = [1 if y==1 else 0 for y in data['angel']]\n",
    "data['gold'] = [1 if y==2 else 0 for y in data['angel']]\n",
    "data['gold_campaign'] = [1 if y==1 else 0 for y in data['campaign']]"
   ]
  },
  {
   "cell_type": "code",
   "execution_count": 7,
   "metadata": {},
   "outputs": [],
   "source": [
    "data = pd.merge(data, tastes, left_on=['taste'], right_on=['id'], how='left')"
   ]
  },
  {
   "cell_type": "code",
   "execution_count": 8,
   "metadata": {},
   "outputs": [
    {
     "data": {
      "text/html": [
       "<div>\n",
       "<style scoped>\n",
       "    .dataframe tbody tr th:only-of-type {\n",
       "        vertical-align: middle;\n",
       "    }\n",
       "\n",
       "    .dataframe tbody tr th {\n",
       "        vertical-align: top;\n",
       "    }\n",
       "\n",
       "    .dataframe thead th {\n",
       "        text-align: right;\n",
       "    }\n",
       "</style>\n",
       "<table border=\"1\" class=\"dataframe\">\n",
       "  <thead>\n",
       "    <tr style=\"text-align: right;\">\n",
       "      <th></th>\n",
       "      <th>name</th>\n",
       "      <th>silver</th>\n",
       "      <th>gold</th>\n",
       "    </tr>\n",
       "    <tr>\n",
       "      <th>gold_campaign</th>\n",
       "      <th></th>\n",
       "      <th></th>\n",
       "      <th></th>\n",
       "    </tr>\n",
       "  </thead>\n",
       "  <tbody>\n",
       "    <tr>\n",
       "      <th>0</th>\n",
       "      <td>467</td>\n",
       "      <td>22</td>\n",
       "      <td>0</td>\n",
       "    </tr>\n",
       "    <tr>\n",
       "      <th>1</th>\n",
       "      <td>114</td>\n",
       "      <td>0</td>\n",
       "      <td>1</td>\n",
       "    </tr>\n",
       "  </tbody>\n",
       "</table>\n",
       "</div>"
      ],
      "text/plain": [
       "               name  silver  gold\n",
       "gold_campaign                    \n",
       "0               467      22     0\n",
       "1               114       0     1"
      ]
     },
     "execution_count": 8,
     "metadata": {},
     "output_type": "execute_result"
    }
   ],
   "source": [
    "pd.concat([data.groupby(['gold_campaign']).count()['name'], \n",
    "           data.groupby(['gold_campaign']).sum()['silver'], \n",
    "           data.groupby(['gold_campaign']).sum()['gold']\n",
    "          ], axis=1)"
   ]
  },
  {
   "cell_type": "code",
   "execution_count": 9,
   "metadata": {},
   "outputs": [
    {
     "name": "stdout",
     "output_type": "stream",
     "text": [
      "(14, 3)\n"
     ]
    },
    {
     "data": {
      "text/html": [
       "<div>\n",
       "<style scoped>\n",
       "    .dataframe tbody tr th:only-of-type {\n",
       "        vertical-align: middle;\n",
       "    }\n",
       "\n",
       "    .dataframe tbody tr th {\n",
       "        vertical-align: top;\n",
       "    }\n",
       "\n",
       "    .dataframe thead th {\n",
       "        text-align: right;\n",
       "    }\n",
       "</style>\n",
       "<table border=\"1\" class=\"dataframe\">\n",
       "  <thead>\n",
       "    <tr style=\"text-align: right;\">\n",
       "      <th></th>\n",
       "      <th>id</th>\n",
       "      <th>silver</th>\n",
       "      <th>gold</th>\n",
       "    </tr>\n",
       "    <tr>\n",
       "      <th>name</th>\n",
       "      <th></th>\n",
       "      <th></th>\n",
       "      <th></th>\n",
       "    </tr>\n",
       "  </thead>\n",
       "  <tbody>\n",
       "    <tr>\n",
       "      <th>ピーナツ</th>\n",
       "      <td>425</td>\n",
       "      <td>16</td>\n",
       "      <td>1</td>\n",
       "    </tr>\n",
       "    <tr>\n",
       "      <th>チョコバナナ</th>\n",
       "      <td>43</td>\n",
       "      <td>2</td>\n",
       "      <td>0</td>\n",
       "    </tr>\n",
       "    <tr>\n",
       "      <th>いちご</th>\n",
       "      <td>37</td>\n",
       "      <td>1</td>\n",
       "      <td>0</td>\n",
       "    </tr>\n",
       "    <tr>\n",
       "      <th>ミルクキャラメル</th>\n",
       "      <td>16</td>\n",
       "      <td>0</td>\n",
       "      <td>0</td>\n",
       "    </tr>\n",
       "    <tr>\n",
       "      <th>ホワイトミルクピーナッツ</th>\n",
       "      <td>14</td>\n",
       "      <td>0</td>\n",
       "      <td>0</td>\n",
       "    </tr>\n",
       "    <tr>\n",
       "      <th>パチパチ</th>\n",
       "      <td>10</td>\n",
       "      <td>1</td>\n",
       "      <td>0</td>\n",
       "    </tr>\n",
       "    <tr>\n",
       "      <th>甘酒</th>\n",
       "      <td>10</td>\n",
       "      <td>2</td>\n",
       "      <td>0</td>\n",
       "    </tr>\n",
       "    <tr>\n",
       "      <th>カスタード</th>\n",
       "      <td>5</td>\n",
       "      <td>0</td>\n",
       "      <td>0</td>\n",
       "    </tr>\n",
       "    <tr>\n",
       "      <th>金のきなこもち</th>\n",
       "      <td>5</td>\n",
       "      <td>0</td>\n",
       "      <td>0</td>\n",
       "    </tr>\n",
       "    <tr>\n",
       "      <th>グレープラムネ</th>\n",
       "      <td>4</td>\n",
       "      <td>0</td>\n",
       "      <td>0</td>\n",
       "    </tr>\n",
       "    <tr>\n",
       "      <th>パンプキン</th>\n",
       "      <td>4</td>\n",
       "      <td>0</td>\n",
       "      <td>0</td>\n",
       "    </tr>\n",
       "    <tr>\n",
       "      <th>ラムネ</th>\n",
       "      <td>3</td>\n",
       "      <td>0</td>\n",
       "      <td>0</td>\n",
       "    </tr>\n",
       "    <tr>\n",
       "      <th>レモングミ</th>\n",
       "      <td>3</td>\n",
       "      <td>0</td>\n",
       "      <td>0</td>\n",
       "    </tr>\n",
       "    <tr>\n",
       "      <th>キャラメル</th>\n",
       "      <td>2</td>\n",
       "      <td>0</td>\n",
       "      <td>0</td>\n",
       "    </tr>\n",
       "  </tbody>\n",
       "</table>\n",
       "</div>"
      ],
      "text/plain": [
       "               id  silver  gold\n",
       "name                           \n",
       "ピーナツ          425      16     1\n",
       "チョコバナナ         43       2     0\n",
       "いちご            37       1     0\n",
       "ミルクキャラメル       16       0     0\n",
       "ホワイトミルクピーナッツ   14       0     0\n",
       "パチパチ           10       1     0\n",
       "甘酒             10       2     0\n",
       "カスタード           5       0     0\n",
       "金のきなこもち         5       0     0\n",
       "グレープラムネ         4       0     0\n",
       "パンプキン           4       0     0\n",
       "ラムネ             3       0     0\n",
       "レモングミ           3       0     0\n",
       "キャラメル           2       0     0"
      ]
     },
     "execution_count": 9,
     "metadata": {},
     "output_type": "execute_result"
    }
   ],
   "source": [
    "df_summary_taste = pd.concat([\n",
    "    data.groupby(['name']).count()['id'], \n",
    "    data.groupby(['name']).sum()['silver'], \n",
    "    data.groupby(['name']).sum()['gold'] ], axis=1)\n",
    "df_summary_taste.sort_values(by=['id'], ascending=False, inplace=True)\n",
    "print(df_summary_taste.shape)\n",
    "df_summary_taste"
   ]
  },
  {
   "cell_type": "markdown",
   "metadata": {},
   "source": [
    "# エンゼルの出現有無をモデリング"
   ]
  },
  {
   "cell_type": "markdown",
   "metadata": {},
   "source": [
    "## MCMC法による近似解の算出"
   ]
  },
  {
   "cell_type": "code",
   "execution_count": 10,
   "metadata": {},
   "outputs": [],
   "source": [
    "df = data[data['gold_campaign'] < 1]\n",
    "n_try = len(df['silver'].values)\n",
    "n_silver = sum(df['silver'])\n",
    "n_gold = sum(df['gold'])"
   ]
  },
  {
   "cell_type": "markdown",
   "metadata": {},
   "source": [
    "### 銀のエンゼルの出現確率の推定"
   ]
  },
  {
   "cell_type": "code",
   "execution_count": 11,
   "metadata": {},
   "outputs": [
    {
     "name": "stderr",
     "output_type": "stream",
     "text": [
      "Auto-assigning NUTS sampler...\n",
      "Initializing NUTS using jitter+adapt_diag...\n",
      "Multiprocess sampling (4 chains in 4 jobs)\n",
      "NUTS: [theta]\n",
      "Sampling 4 chains: 100%|██████████| 6000/6000 [00:01<00:00, 5929.30draws/s]\n",
      "The acceptance probability does not match the target. It is 0.8824627247550717, but should be close to 0.8. Try to increase the number of tuning steps.\n"
     ]
    }
   ],
   "source": [
    "n_sample = 1000\n",
    "with pm.Model() as model_silver:\n",
    "    # 事前分布\n",
    "    theta = pm.Beta('theta', alpha=1, beta=1)\n",
    "    # 尤度\n",
    "    y = pm.Binomial('y', n=n_try, p=theta, observed=n_silver)\n",
    "\n",
    "with model_silver:\n",
    "    # sample\n",
    "    trace_silver = pm.sample(n_sample, chains=4)"
   ]
  },
  {
   "cell_type": "code",
   "execution_count": 12,
   "metadata": {},
   "outputs": [
    {
     "name": "stderr",
     "output_type": "stream",
     "text": [
      "/Users/tok41/workspace/tech_book/env_tb/lib/python3.7/site-packages/matplotlib/axes/_base.py:3604: MatplotlibDeprecationWarning: \n",
      "The `ymin` argument was deprecated in Matplotlib 3.0 and will be removed in 3.2. Use `bottom` instead.\n",
      "  alternative='`bottom`', obj_type='argument')\n"
     ]
    },
    {
     "data": {
      "text/plain": [
       "array([[<matplotlib.axes._subplots.AxesSubplot object at 0x11f095ba8>,\n",
       "        <matplotlib.axes._subplots.AxesSubplot object at 0x11f0def28>]],\n",
       "      dtype=object)"
      ]
     },
     "execution_count": 12,
     "metadata": {},
     "output_type": "execute_result"
    },
    {
     "data": {
      "image/png": "[encoded data removed]",
      "text/plain": [
       "<Figure size 864x144 with 2 Axes>"
      ]
     },
     "metadata": {},
     "output_type": "display_data"
    }
   ],
   "source": [
    "pm.traceplot(trace_silver)"
   ]
  },
  {
   "cell_type": "code",
   "execution_count": 13,
   "metadata": {},
   "outputs": [
    {
     "data": {
      "text/plain": [
       "<matplotlib.axes._subplots.AxesSubplot at 0x1211caac8>"
      ]
     },
     "execution_count": 13,
     "metadata": {},
     "output_type": "execute_result"
    },
    {
     "data": {
      "image/png": "[encoded data removed]",
      "text/plain": [
       "<Figure size 432x288 with 1 Axes>"
      ]
     },
     "metadata": {},
     "output_type": "display_data"
    }
   ],
   "source": [
    "pm.plot_posterior(trace_silver, kde_plot=True, alpha_level=0.05)"
   ]
  },
  {
   "cell_type": "markdown",
   "metadata": {},
   "source": [
    "### 金のエンゼルの出現確率の推定"
   ]
  },
  {
   "cell_type": "code",
   "execution_count": 14,
   "metadata": {},
   "outputs": [
    {
     "name": "stderr",
     "output_type": "stream",
     "text": [
      "Auto-assigning NUTS sampler...\n",
      "Initializing NUTS using jitter+adapt_diag...\n",
      "Multiprocess sampling (4 chains in 4 jobs)\n",
      "NUTS: [theta]\n",
      "Sampling 4 chains: 100%|██████████| 6000/6000 [00:01<00:00, 5631.49draws/s]\n",
      "There were 2 divergences after tuning. Increase `target_accept` or reparameterize.\n"
     ]
    }
   ],
   "source": [
    "with pm.Model() as model_ｇｏｌｄ:\n",
    "    # 事前分布\n",
    "    theta = pm.Beta('theta', alpha=1, beta=1)\n",
    "    # 尤度\n",
    "    y = pm.Binomial('y', n=n_try, p=theta, observed=n_gold)\n",
    "\n",
    "with model_gold:\n",
    "    # sample\n",
    "    trace_gold = pm.sample(n_sample, chains=4)"
   ]
  },
  {
   "cell_type": "code",
   "execution_count": 15,
   "metadata": {},
   "outputs": [
    {
     "name": "stderr",
     "output_type": "stream",
     "text": [
      "/Users/tok41/workspace/tech_book/env_tb/lib/python3.7/site-packages/matplotlib/axes/_base.py:3604: MatplotlibDeprecationWarning: \n",
      "The `ymin` argument was deprecated in Matplotlib 3.0 and will be removed in 3.2. Use `bottom` instead.\n",
      "  alternative='`bottom`', obj_type='argument')\n"
     ]
    },
    {
     "data": {
      "text/plain": [
       "array([[<matplotlib.axes._subplots.AxesSubplot object at 0x121774f28>,\n",
       "        <matplotlib.axes._subplots.AxesSubplot object at 0x1217a8358>]],\n",
       "      dtype=object)"
      ]
     },
     "execution_count": 15,
     "metadata": {},
     "output_type": "execute_result"
    },
    {
     "data": {
      "image/png": "[encoded data removed]",
      "text/plain": [
       "<Figure size 864x144 with 2 Axes>"
      ]
     },
     "metadata": {},
     "output_type": "display_data"
    }
   ],
   "source": [
    "pm.traceplot(trace_gold)"
   ]
  },
  {
   "cell_type": "code",
   "execution_count": 16,
   "metadata": {},
   "outputs": [
    {
     "data": {
      "text/plain": [
       "<matplotlib.axes._subplots.AxesSubplot at 0x12180b2e8>"
      ]
     },
     "execution_count": 16,
     "metadata": {},
     "output_type": "execute_result"
    },
    {
     "data": {
      "image/png": "[encoded data removed]",
      "text/plain": [
       "<Figure size 432x288 with 1 Axes>"
      ]
     },
     "metadata": {},
     "output_type": "display_data"
    }
   ],
   "source": [
    "pm.plot_posterior(trace_gold, kde_plot=True, alpha_level=0.05)"
   ]
  },
  {
   "cell_type": "markdown",
   "metadata": {},
   "source": [
    "## 近似解と解析解の比較\n",
    "- 解析解はベータ分布として得られる"
   ]
  },
  {
   "cell_type": "code",
   "execution_count": null,
   "metadata": {},
   "outputs": [],
   "source": [
    "x = np.linspace(0, 0.1, 100) # x軸の設定\n",
    "fig = plt.figure(figsize=(8, 2))\n",
    "ax = fig.subplots(1,1)\n",
    "\n",
    "# 事前分布\n",
    "a0 = 1.0\n",
    "b0 = 1.0\n",
    "# パラメータalphaとbetaを設定\n",
    "a = a0 + n_silver\n",
    "b = b0 + (n_try - n_silver)\n",
    "# ベータ分布の確率密度を計算\n",
    "y = stats.beta(a, b).pdf(x)\n",
    "ax.plot(x, y, label='exact', linestyle='--')\n",
    "sns.distplot(trace_silver['theta'], hist=False, ax=ax, label='approximate')\n",
    "ax.set_title('probability of Silver Angel')"
   ]
  },
  {
   "cell_type": "code",
   "execution_count": null,
   "metadata": {},
   "outputs": [],
   "source": [
    "x = np.linspace(0, 0.1, 100) # x軸の設定\n",
    "fig = plt.figure(figsize=(8, 2))\n",
    "ax = fig.subplots(1,1)\n",
    "\n",
    "# 事前分布\n",
    "a0 = 1.0\n",
    "b0 = 1.0\n",
    "# パラメータalphaとbetaを設定\n",
    "a = a0 + n_gold\n",
    "b = b0 + (n_try - n_gold)\n",
    "# ベータ分布の確率密度を計算\n",
    "y = stats.beta(a, b).pdf(x)\n",
    "ax.plot(x, y, label='exact', linestyle='--')\n",
    "sns.distplot(trace_gold['theta'], hist=False, ax=ax, label='approximate')\n",
    "ax.set_title('probability of Gold Angel')"
   ]
  },
  {
   "cell_type": "markdown",
   "metadata": {},
   "source": [
    "## おもちゃのカンヅメを得るまでに必要な購入数の見積もり"
   ]
  },
  {
   "cell_type": "markdown",
   "metadata": {},
   "source": [
    "### 銀のエンゼル"
   ]
  },
  {
   "cell_type": "code",
   "execution_count": 17,
   "metadata": {},
   "outputs": [
    {
     "data": {
      "text/plain": [
       "<matplotlib.collections.PolyCollection at 0x11f06e940>"
      ]
     },
     "execution_count": 17,
     "metadata": {},
     "output_type": "execute_result"
    },
    {
     "data": {
      "image/png": "[encoded data removed]",
      "text/plain": [
       "<Figure size 504x288 with 1 Axes>"
      ]
     },
     "metadata": {},
     "output_type": "display_data"
    }
   ],
   "source": [
    "alpha_level = 0.05\n",
    "n=5  # エンゼルの当たり枚数\n",
    "ks = np.arange(0,300,1)\n",
    "p_samples = trace_silver['theta']\n",
    "# 確率質量\n",
    "pmf_arr = np.array(list(map(lambda p:stats.nbinom.pmf(ks, n, p), p_samples)))\n",
    "pmf_expect = pmf_arr.mean(axis=0)\n",
    "pmf_lb = stats.nbinom.pmf(ks, n, np.percentile(p_samples, (alpha_level*50.0)))\n",
    "pmf_ub = stats.nbinom.pmf(ks, n, np.percentile(p_samples, (100.0-alpha_level*50.0)))\n",
    "# 累積確率\n",
    "cdf_expect = (pmf_arr.cumsum(axis=1)).mean(axis=0)\n",
    "cdf_nb_lb = pmf_lb.cumsum()\n",
    "cdf_nb_ub = pmf_ub.cumsum()\n",
    "# plot\n",
    "fig = plt.figure(figsize=(7, 4))\n",
    "ax = fig.subplots(1,1)\n",
    "ax.plot(ks, cdf_expect)\n",
    "ax.fill_between(ks, cdf_nb_lb, cdf_nb_ub, facecolor='gray',alpha=0.5)"
   ]
  },
  {
   "cell_type": "markdown",
   "metadata": {},
   "source": [
    "### 金のエンゼル"
   ]
  },
  {
   "cell_type": "code",
   "execution_count": 18,
   "metadata": {},
   "outputs": [
    {
     "data": {
      "text/plain": [
       "<matplotlib.collections.PolyCollection at 0x11f033048>"
      ]
     },
     "execution_count": 18,
     "metadata": {},
     "output_type": "execute_result"
    },
    {
     "data": {
      "image/png": "[encoded data removed]",
      "text/plain": [
       "<Figure size 504x288 with 1 Axes>"
      ]
     },
     "metadata": {},
     "output_type": "display_data"
    }
   ],
   "source": [
    "n=1 # エンゼルの当たり枚数\n",
    "ks = np.arange(0,2000,1)\n",
    "p_samples = trace_gold['theta']\n",
    "# 確率質量\n",
    "pmf_arr = np.array(list(map(lambda p:stats.nbinom.pmf(ks, n, p), p_samples)))\n",
    "pmf_expect = pmf_arr.mean(axis=0)\n",
    "pmf_lb = stats.nbinom.pmf(ks, n, np.percentile(p_samples, (alpha_level*50.0)))\n",
    "pmf_ub = stats.nbinom.pmf(ks, n, np.percentile(p_samples, (100.0-alpha_level*50.0)))\n",
    "# 累積確率\n",
    "cdf_expect = (pmf_arr.cumsum(axis=1)).mean(axis=0)\n",
    "cdf_nb_lb = pmf_lb.cumsum()\n",
    "cdf_nb_ub = pmf_ub.cumsum()\n",
    "# plot\n",
    "fig = plt.figure(figsize=(7, 4))\n",
    "ax = fig.subplots(1,1)\n",
    "ax.plot(ks, cdf_expect)\n",
    "ax.fill_between(ks, cdf_nb_lb, cdf_nb_ub, facecolor='gray',alpha=0.5)"
   ]
  },
  {
   "cell_type": "markdown",
   "metadata": {},
   "source": [
    "# 金のエンゼルと銀のエンゼルの出現確率を合わせて推論"
   ]
  },
  {
   "cell_type": "code",
   "execution_count": 19,
   "metadata": {},
   "outputs": [
    {
     "data": {
      "text/html": [
       "<div>\n",
       "<style scoped>\n",
       "    .dataframe tbody tr th:only-of-type {\n",
       "        vertical-align: middle;\n",
       "    }\n",
       "\n",
       "    .dataframe tbody tr th {\n",
       "        vertical-align: top;\n",
       "    }\n",
       "\n",
       "    .dataframe thead th {\n",
       "        text-align: right;\n",
       "    }\n",
       "</style>\n",
       "<table border=\"1\" class=\"dataframe\">\n",
       "  <thead>\n",
       "    <tr style=\"text-align: right;\">\n",
       "      <th></th>\n",
       "      <th>none</th>\n",
       "      <th>silver</th>\n",
       "      <th>gold</th>\n",
       "    </tr>\n",
       "  </thead>\n",
       "  <tbody>\n",
       "    <tr>\n",
       "      <th>c0</th>\n",
       "      <td>445</td>\n",
       "      <td>22</td>\n",
       "      <td>0</td>\n",
       "    </tr>\n",
       "    <tr>\n",
       "      <th>c1</th>\n",
       "      <td>113</td>\n",
       "      <td>0</td>\n",
       "      <td>1</td>\n",
       "    </tr>\n",
       "  </tbody>\n",
       "</table>\n",
       "</div>"
      ],
      "text/plain": [
       "    none  silver  gold\n",
       "c0   445      22     0\n",
       "c1   113       0     1"
      ]
     },
     "execution_count": 19,
     "metadata": {},
     "output_type": "execute_result"
    }
   ],
   "source": [
    "# データの整理\n",
    "data_0 = data[data['gold_campaign'] < 1] # 通常キャンペーン\n",
    "data_1 = data[data['gold_campaign'] > 0] # 金のエンゼル２倍キャンペーン\n",
    "\n",
    "dict_sum = dict()\n",
    "dict_sum['c0'] = {'gold':sum(data_0['angel']==2), \n",
    "                  'silver':sum(data_0['angel']==1), \n",
    "                  'none':sum(data_0['angel']==0)\n",
    "                 }\n",
    "dict_sum['c1'] = {'gold':sum(data_1['angel']==2), \n",
    "                  'silver':sum(data_1['angel']==1), \n",
    "                  'none':sum(data_1['angel']==0)\n",
    "                 }\n",
    "df_sum = pd.DataFrame(dict_sum).T\n",
    "df_sum = df_sum[['none', 'silver', 'gold']]\n",
    "df_sum"
   ]
  },
  {
   "cell_type": "markdown",
   "metadata": {},
   "source": [
    "## 金のエンゼル２倍キャンペーンを除いたデータで推論"
   ]
  },
  {
   "cell_type": "code",
   "execution_count": 20,
   "metadata": {},
   "outputs": [
    {
     "data": {
      "text/plain": [
       "array([445,  22,   0])"
      ]
     },
     "execution_count": 20,
     "metadata": {},
     "output_type": "execute_result"
    }
   ],
   "source": [
    "d = df_sum.loc['c0'].values\n",
    "d"
   ]
  },
  {
   "cell_type": "code",
   "execution_count": null,
   "metadata": {},
   "outputs": [],
   "source": [
    "n_sample = 10000\n",
    "with pm.Model() as model1:\n",
    "    alpha = [1., 1., 1.]\n",
    "    pi = pm.Dirichlet('pi', a=np.array(alpha))\n",
    "    m = pm.Multinomial('m', n=np.sum(d), p=pi, observed=d)\n",
    "    trace1 = pm.sample(n_sample, chains=3)"
   ]
  },
  {
   "cell_type": "code",
   "execution_count": null,
   "metadata": {},
   "outputs": [],
   "source": [
    "fig = plt.figure(figsize=(13, 4))\n",
    "ax = fig.subplots(1, 3)\n",
    "\n",
    "pm.plot_posterior(trace1['pi'][:,0], kde_plot=True, alpha_level=0.05, ax=ax[0])\n",
    "pm.plot_posterior(trace1['pi'][:,1], kde_plot=True, alpha_level=0.05, ax=ax[1])\n",
    "pm.plot_posterior(trace1['pi'][:,2], kde_plot=True, alpha_level=0.05, ax=ax[2])\n",
    "ax[0].set_title('Nothing')\n",
    "ax[1].set_title('SilverAngel')\n",
    "ax[2].set_title('GoldAngel')"
   ]
  },
  {
   "cell_type": "markdown",
   "metadata": {},
   "source": [
    "## 金のエンゼル２倍キャンペーンを含めたデータで推論"
   ]
  },
  {
   "cell_type": "code",
   "execution_count": 21,
   "metadata": {},
   "outputs": [
    {
     "data": {
      "text/plain": [
       "array([[445,  22,   0],\n",
       "       [113,   0,   1]])"
      ]
     },
     "execution_count": 21,
     "metadata": {},
     "output_type": "execute_result"
    }
   ],
   "source": [
    "d = df_sum.values\n",
    "d"
   ]
  },
  {
   "cell_type": "code",
   "execution_count": 22,
   "metadata": {},
   "outputs": [
    {
     "data": {
      "text/plain": [
       "array([[1., 1., 1.],\n",
       "       [1., 0., 2.]])"
      ]
     },
     "execution_count": 22,
     "metadata": {},
     "output_type": "execute_result"
    }
   ],
   "source": [
    "weight = np.array([[1.0, 1.0, 1.0], \n",
    "                   [1.0, 0.0, 2.0]])\n",
    "weight"
   ]
  },
  {
   "cell_type": "code",
   "execution_count": 23,
   "metadata": {},
   "outputs": [
    {
     "name": "stderr",
     "output_type": "stream",
     "text": [
      "Auto-assigning NUTS sampler...\n",
      "Initializing NUTS using jitter+adapt_diag...\n",
      "Multiprocess sampling (3 chains in 4 jobs)\n",
      "NUTS: [pi]\n",
      "Sampling 3 chains: 100%|██████████| 31500/31500 [00:09<00:00, 3233.50draws/s]\n",
      "There was 1 divergence after tuning. Increase `target_accept` or reparameterize.\n"
     ]
    }
   ],
   "source": [
    "n_sample = 10000\n",
    "with pm.Model() as model2:\n",
    "    alpha = [1., 1., 1.]\n",
    "    pi = pm.Dirichlet('pi', a=np.array(alpha))\n",
    "    for i in np.arange(d.shape[0]):\n",
    "        m = pm.Multinomial('m_%s'%(i), n=np.sum(d[i]), p=pi*weight[i], observed=d[i])\n",
    "    trace2 = pm.sample(n_sample, chains=3)"
   ]
  },
  {
   "cell_type": "code",
   "execution_count": 24,
   "metadata": {},
   "outputs": [
    {
     "data": {
      "text/plain": [
       "Text(0.5, 1.0, 'GoldAngel')"
      ]
     },
     "execution_count": 24,
     "metadata": {},
     "output_type": "execute_result"
    },
    {
     "data": {
      "image/png": "[encoded data removed]",
      "text/plain": [
       "<Figure size 936x288 with 3 Axes>"
      ]
     },
     "metadata": {},
     "output_type": "display_data"
    }
   ],
   "source": [
    "fig = plt.figure(figsize=(13, 4))\n",
    "ax = fig.subplots(1, 3)\n",
    "\n",
    "pm.plot_posterior(trace2['pi'][:,0], kde_plot=True, alpha_level=0.05, ax=ax[0])\n",
    "pm.plot_posterior(trace2['pi'][:,1], kde_plot=True, alpha_level=0.05, ax=ax[1])\n",
    "pm.plot_posterior(trace2['pi'][:,2], kde_plot=True, alpha_level=0.05, ax=ax[2])\n",
    "ax[0].set_title('Nothing')\n",
    "ax[1].set_title('SilverAngel')\n",
    "ax[2].set_title('GoldAngel')"
   ]
  },
  {
   "cell_type": "code",
   "execution_count": 25,
   "metadata": {},
   "outputs": [
    {
     "data": {
      "text/plain": [
       "array([[9.27693921e-01, 9.66958196e-01],\n",
       "       [3.06167219e-02, 6.91958326e-02],\n",
       "       [5.33991247e-05, 6.72025654e-03]])"
      ]
     },
     "execution_count": 25,
     "metadata": {},
     "output_type": "execute_result"
    }
   ],
   "source": [
    "pm.hpd(trace2['pi'])"
   ]
  },
  {
   "cell_type": "markdown",
   "metadata": {},
   "source": [
    "## おもちゃのカンヅメを得るまでに必要な購入数の見積もり"
   ]
  },
  {
   "cell_type": "markdown",
   "metadata": {},
   "source": [
    "### 銀のエンゼル"
   ]
  },
  {
   "cell_type": "code",
   "execution_count": null,
   "metadata": {},
   "outputs": [],
   "source": [
    "alpha_level = 0.05\n",
    "n=5  # エンゼルの当たり枚数\n",
    "ks = np.arange(0,300,1)\n",
    "p_samples = trace2['pi'][:,1]\n",
    "# 確率質量\n",
    "pmf_arr = np.array(list(map(lambda p:stats.nbinom.pmf(ks, n, p), p_samples)))\n",
    "pmf_expect = pmf_arr.mean(axis=0)\n",
    "pmf_lb = stats.nbinom.pmf(ks, n, np.percentile(p_samples, (alpha_level*50.0)))\n",
    "pmf_ub = stats.nbinom.pmf(ks, n, np.percentile(p_samples, (100.0-alpha_level*50.0)))\n",
    "# 累積確率\n",
    "cdf_expect = (pmf_arr.cumsum(axis=1)).mean(axis=0)\n",
    "cdf_nb_lb = pmf_lb.cumsum()\n",
    "cdf_nb_ub = pmf_ub.cumsum()\n",
    "# plot\n",
    "fig = plt.figure(figsize=(7, 4))\n",
    "ax = fig.subplots(1,1)\n",
    "ax.plot(ks, cdf_expect)\n",
    "ax.fill_between(ks, cdf_nb_lb, cdf_nb_ub, facecolor='gray',alpha=0.5)"
   ]
  },
  {
   "cell_type": "markdown",
   "metadata": {},
   "source": [
    "### 金のエンゼル"
   ]
  },
  {
   "cell_type": "code",
   "execution_count": null,
   "metadata": {},
   "outputs": [],
   "source": [
    "alpha_level = 0.05\n",
    "n=1  # エンゼルの当たり枚数\n",
    "ks = np.arange(0,2000,1)\n",
    "p_samples = trace2['pi'][:,2]\n",
    "# 確率質量\n",
    "pmf_arr = np.array(list(map(lambda p:stats.nbinom.pmf(ks, n, p), p_samples)))\n",
    "pmf_expect = pmf_arr.mean(axis=0)\n",
    "pmf_lb = stats.nbinom.pmf(ks, n, np.percentile(p_samples, (alpha_level*50.0)))\n",
    "pmf_ub = stats.nbinom.pmf(ks, n, np.percentile(p_samples, (100.0-alpha_level*50.0)))\n",
    "# 累積確率\n",
    "cdf_expect = (pmf_arr.cumsum(axis=1)).mean(axis=0)\n",
    "cdf_nb_lb = pmf_lb.cumsum()\n",
    "cdf_nb_ub = pmf_ub.cumsum()\n",
    "# plot\n",
    "fig = plt.figure(figsize=(7, 4))\n",
    "ax = fig.subplots(1,1)\n",
    "ax.plot(ks, cdf_expect)\n",
    "ax.fill_between(ks, cdf_nb_lb, cdf_nb_ub, facecolor='gray',alpha=0.5)"
   ]
  },
  {
   "cell_type": "markdown",
   "metadata": {},
   "source": [
    "## 金のエンゼルと銀のエンゼルの価値を比較"
   ]
  },
  {
   "cell_type": "code",
   "execution_count": null,
   "metadata": {},
   "outputs": [],
   "source": [
    "sample_gold = trace2['pi'][:,2]\n",
    "sample_silver = trace2['pi'][:,1]\n",
    "sample_rate = sample_silver/sample_gold\n",
    "bins = np.linspace(0, 150, 100)\n",
    "\n",
    "fig = plt.figure(figsize=(7, 4))\n",
    "ax = fig.subplots(1,1)\n",
    "pm.plot_posterior(sample_rate, bins=bins, color='grey', ax=ax)\n",
    "plt.xlim([0, 150])"
   ]
  },
  {
   "cell_type": "code",
   "execution_count": null,
   "metadata": {},
   "outputs": [],
   "source": [
    "print('median :', np.median(sample_rate))"
   ]
  },
  {
   "cell_type": "code",
   "execution_count": null,
   "metadata": {},
   "outputs": [],
   "source": []
  }
 ],
 "metadata": {
  "kernelspec": {
   "display_name": "Python 3",
   "language": "python",
   "name": "python3"
  },
  "language_info": {
   "codemirror_mode": {
    "name": "ipython",
    "version": 3
   },
   "file_extension": ".py",
   "mimetype": "text/x-python",
   "name": "python",
   "nbconvert_exporter": "python",
   "pygments_lexer": "ipython3",
   "version": "3.7.3"
  },
  "toc-autonumbering": false
 },
 "nbformat": 4,
 "nbformat_minor": 2
}
